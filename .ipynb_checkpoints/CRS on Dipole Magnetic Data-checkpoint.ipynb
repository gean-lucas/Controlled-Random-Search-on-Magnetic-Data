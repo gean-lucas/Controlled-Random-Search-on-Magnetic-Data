{
 "cells": [
  {
   "cell_type": "markdown",
   "metadata": {},
   "source": [
    "# Controlled Random Search Applied to Magnetometric Inversion Data\n",
    "<hr>\n",
    "<h4>This is a new version in python/jupyter from the fortran project in my github repository</h4>"
   ]
  },
  {
   "cell_type": "markdown",
   "metadata": {},
   "source": [
    "<h4 style='color: blue;'> This first part will be focused in delivering the direct model </h4>"
   ]
  },
  {
   "cell_type": "code",
   "execution_count": 1,
   "metadata": {},
   "outputs": [],
   "source": [
    "import pandas as pd"
   ]
  },
  {
   "cell_type": "code",
   "execution_count": 2,
   "metadata": {},
   "outputs": [
    {
     "data": {
      "text/html": [
       "<div>\n",
       "<style scoped>\n",
       "    .dataframe tbody tr th:only-of-type {\n",
       "        vertical-align: middle;\n",
       "    }\n",
       "\n",
       "    .dataframe tbody tr th {\n",
       "        vertical-align: top;\n",
       "    }\n",
       "\n",
       "    .dataframe thead th {\n",
       "        text-align: right;\n",
       "    }\n",
       "</style>\n",
       "<table border=\"1\" class=\"dataframe\">\n",
       "  <thead>\n",
       "    <tr style=\"text-align: right;\">\n",
       "      <th></th>\n",
       "      <th>xp</th>\n",
       "      <th>anom</th>\n",
       "    </tr>\n",
       "  </thead>\n",
       "  <tbody>\n",
       "    <tr>\n",
       "      <th>0</th>\n",
       "      <td>0.0</td>\n",
       "      <td>2.181409</td>\n",
       "    </tr>\n",
       "    <tr>\n",
       "      <th>1</th>\n",
       "      <td>1.0</td>\n",
       "      <td>-0.578408</td>\n",
       "    </tr>\n",
       "    <tr>\n",
       "      <th>2</th>\n",
       "      <td>2.0</td>\n",
       "      <td>-2.168885</td>\n",
       "    </tr>\n",
       "    <tr>\n",
       "      <th>3</th>\n",
       "      <td>3.0</td>\n",
       "      <td>-2.268292</td>\n",
       "    </tr>\n",
       "    <tr>\n",
       "      <th>4</th>\n",
       "      <td>4.0</td>\n",
       "      <td>-1.875124</td>\n",
       "    </tr>\n",
       "  </tbody>\n",
       "</table>\n",
       "</div>"
      ],
      "text/plain": [
       "    xp      anom\n",
       "0  0.0  2.181409\n",
       "1  1.0 -0.578408\n",
       "2  2.0 -2.168885\n",
       "3  3.0 -2.268292\n",
       "4  4.0 -1.875124"
      ]
     },
     "execution_count": 2,
     "metadata": {},
     "output_type": "execute_result"
    }
   ],
   "source": [
    "# Importing the input in a pandas DataFrame\n",
    "anomaly = pd.read_csv('Exercicio/anomalia.txt', delim_whitespace = True, header = None)\n",
    "anomaly.columns = ['xp', 'anom']\n",
    "# The first columns refers to the x coordinator of the profile; anom is the magnetic anomaly value\n",
    "anomaly.head()"
   ]
  },
  {
   "cell_type": "code",
   "execution_count": 3,
   "metadata": {},
   "outputs": [
    {
     "data": {
      "text/plain": [
       "[<matplotlib.lines.Line2D at 0x172bb6f2cd0>]"
      ]
     },
     "execution_count": 3,
     "metadata": {},
     "output_type": "execute_result"
    },
    {
     "data": {
      "image/png": "[encoded data removed]",
      "text/plain": [
       "<Figure size 720x432 with 1 Axes>"
      ]
     },
     "metadata": {
      "needs_background": "light"
     },
     "output_type": "display_data"
    }
   ],
   "source": [
    "#Let's make a vizual of the profile\n",
    "\n",
    "import matplotlib.pyplot as plt\n",
    "\n",
    "plt.figure(figsize = (10,6))\n",
    "plt.xlabel('Horizontal coordinate')\n",
    "plt.ylabel('Magnetometric anomaly')\n",
    "plt.title('Observed Data', fontsize = 15)\n",
    "plt.plot(anomaly.iloc[:,0], anomaly.iloc[:,1])"
   ]
  },
  {
   "cell_type": "markdown",
   "metadata": {},
   "source": [
    "<p> From this observed data we have to estimate some properties of the body \n",
    " that is generating this pattern shown in the figure above. </p>\n",
    " <p> The properties are: <b>xq</b> (horizontal distance coordinate), <b>zq</b> (depth) e <b>mom</b> (magnetic dipole moment). </p>\n",
    " <p>First, we will need to build a function that will generate the values for the anomaly pattern given the properties  mentioned above.</p>"
   ]
  },
  {
   "cell_type": "code",
   "execution_count": 4,
   "metadata": {},
   "outputs": [],
   "source": [
    "# To the total field calculation, we need the components of the regional field\n",
    "import numpy as np\n",
    "\n",
    "def dircos(incl, decl):\n",
    "    \"\"\"\n",
    "    incl = inclinação da magnetização (graus, positivo abaixo da horizontal) \n",
    "    decl = declinação da magnetização (graus, positiva para Leste, a partir do Norte verdadeiro)\n",
    "    \n",
    "    \"\"\"\n",
    "    \n",
    "    d2rad = np.pi / 180\n",
    "    xincl = incl*d2rad\n",
    "    xdecl = decl*d2rad\n",
    "    a = np.cos(xincl)*np.cos(xdecl)\n",
    "    b = np.cos(xincl)*np.sin(xdecl)\n",
    "    c = np.sin(xincl)\n",
    "    return a, b, c"
   ]
  },
  {
   "cell_type": "code",
   "execution_count": 5,
   "metadata": {},
   "outputs": [],
   "source": [
    "def dipole(xq,yq,zq,mi,md,moment,xp,yp,zp):\n",
    "    \n",
    "    \"\"\"\n",
    "    VARIAVEIS UTILIZADAS\n",
    "    xp,yp e zp = COORDENADAS DO PONTO DE OBSERVAÇÃO (metros)\n",
    "    xq,yq,zq = coordenadas do centro da esfera (metros)\n",
    "    mi = inclinação da magnetização (graus, positivo abaixo da horizontal)\n",
    "    md = declinação da magnetização (graus, positiva para Leste, a partir do Norte verdadeiro)\n",
    "    moment = momento de dipolo magnetico (A.m²) \n",
    "    bx,by,bz,t = elementos do campo B gerados delo dipolo - dado de saida (nT)\n",
    "    eixo x, na direção Norte\n",
    "    eixo y, na direção Leste\n",
    "    eixo z, para baixo\n",
    "    \"\"\"\n",
    "    \n",
    "    mx, my, mz = dircos(mi, md)\n",
    "    rx = xp - xq\n",
    "    ry = yp - yq\n",
    "    rz = zp - zq\n",
    "    r2 = rx**2 + ry**2 + rz**2\n",
    "    r = np.sqrt(r2)\n",
    "    #assert r =! 0, f\"DIPOLE: bad argument detected.\"\n",
    "    r5 = r**5\n",
    "    dot = rx*mx + ry*my + rz*mz\n",
    "    bx = 1e-7*moment*(3*dot*rx - r2*mx) / r5\n",
    "    by = 1e-7*moment*(3*dot*ry - r2*my) / r5\n",
    "    bz = 1e-7*moment*(3*dot*rz - r2*mz) / r5\n",
    "    bx = bx*1e9\n",
    "    by = by*1e9\n",
    "    bz = bz*1e9\n",
    "    \n",
    "    return bx, by, bz"
   ]
  },
  {
   "cell_type": "markdown",
   "metadata": {},
   "source": [
    "With the funtion that is the direct model, let's build the a implementation of the CSR algoritm \n",
    "that will solve our problem of estimate a model that fit our observed data"
   ]
  },
  {
   "cell_type": "code",
   "execution_count": 6,
   "metadata": {},
   "outputs": [],
   "source": [
    "obs_data = np.asanyarray(anomaly)"
   ]
  },
  {
   "cell_type": "code",
   "execution_count": 7,
   "metadata": {},
   "outputs": [],
   "source": [
    "# Setting the variables to this especific problem\n",
    "# As medidas foram feitas a uma altura de 1m do solo (zp = -1m).\n",
    "# yq and yp = 0, because we are considering only the profile in the x direction\n",
    "zp = -1\n",
    "yq = 0\n",
    "yp = 0"
   ]
  },
  {
   "cell_type": "code",
   "execution_count": 8,
   "metadata": {},
   "outputs": [],
   "source": [
    "# Setting the box that will be the search area to the algorithm\n",
    "# The values will be chosen in a arbitrarily way\n",
    "xqmin = 5\n",
    "xqmax = 15\n",
    "zqmin = 0\n",
    "zqmax = 30\n",
    "mmin = 1400\n",
    "mmax = 1900"
   ]
  },
  {
   "cell_type": "code",
   "execution_count": 9,
   "metadata": {},
   "outputs": [],
   "source": [
    "# The number of initial models are generaly  7 * n parameters (n = 3 in our case)\n",
    "# It can be different, but let's test 7 first\n",
    "n_modelos = 21"
   ]
  },
  {
   "cell_type": "code",
   "execution_count": 10,
   "metadata": {},
   "outputs": [
    {
     "data": {
      "text/plain": [
       "array([[1.19010025e+01, 8.68946748e+00, 1.40935485e+01, 6.46873274e+00,\n",
       "        1.19262017e+01, 7.27951305e+00, 7.89178953e+00, 1.24189673e+01,\n",
       "        8.82668791e+00, 9.52134567e+00, 8.62951837e+00, 1.11206941e+01,\n",
       "        1.24141982e+01, 8.59186504e+00, 7.87688838e+00, 8.40630736e+00,\n",
       "        9.41285097e+00, 9.91971852e+00, 7.68194470e+00, 1.13798020e+01,\n",
       "        1.45668876e+01],\n",
       "       [7.44864518e+00, 2.96249912e+01, 8.08945492e+00, 7.73305883e+00,\n",
       "        3.07580608e+00, 2.38396674e+01, 2.04655737e+01, 1.93328638e+01,\n",
       "        2.18784854e+01, 2.79502053e+00, 2.66639441e+01, 2.23303747e+01,\n",
       "        1.40061772e+01, 6.52406490e+00, 8.62074172e-01, 1.24719463e+01,\n",
       "        1.73091842e+01, 9.05607635e+00, 2.07945291e+01, 2.82174548e+01,\n",
       "        5.60072417e+00],\n",
       "       [1.69457754e+03, 1.46227240e+03, 1.75917993e+03, 1.77234622e+03,\n",
       "        1.82187714e+03, 1.72104132e+03, 1.69878072e+03, 1.64607863e+03,\n",
       "        1.60694283e+03, 1.88255798e+03, 1.41068515e+03, 1.41013176e+03,\n",
       "        1.40079793e+03, 1.40055199e+03, 1.74347767e+03, 1.84167409e+03,\n",
       "        1.53246336e+03, 1.66198082e+03, 1.60494416e+03, 1.63177750e+03,\n",
       "        1.62359231e+03]])"
      ]
     },
     "execution_count": 10,
     "metadata": {},
     "output_type": "execute_result"
    }
   ],
   "source": [
    "# Evaluating the initial models in a random way \n",
    "import random\n",
    "\n",
    "conj_sol = np.zeros((3, n_modelos))\n",
    "\n",
    "for i in range(n_modelos):\n",
    "    conj_sol[0][i] = random.random()*(xqmax-xqmin) + xqmin\n",
    "    conj_sol[1][i] = random.random()*(zqmax-zqmin) + zqmin\n",
    "    conj_sol[2][i] = random.random()*(mmax-mmin) + mmin\n",
    "conj_sol"
   ]
  },
  {
   "cell_type": "code",
   "execution_count": 11,
   "metadata": {},
   "outputs": [
    {
     "data": {
      "text/plain": [
       "(16, 1, 2)"
      ]
     },
     "execution_count": 11,
     "metadata": {},
     "output_type": "execute_result"
    }
   ],
   "source": [
    "# Beggining the iterative process \n",
    "# We will get n=3 models randomly from the set \n",
    "# And we will make a mean of them\n",
    "\n",
    "k = random.randint(0,n_modelos - 1)\n",
    "l = random.randint(0,n_modelos - 1)\n",
    "m = random.randint(0,n_modelos - 1)\n",
    "\n",
    "k, l, m"
   ]
  },
  {
   "cell_type": "code",
   "execution_count": 12,
   "metadata": {},
   "outputs": [],
   "source": [
    "# Building the mean from the models collected\n",
    "P = np.zeros(3)\n",
    "\n",
    "for i in range(3):\n",
    "    P[i] = (conj_sol[i][k] + conj_sol[i][l] + conj_sol[i][m]) / 3\n",
    "\n",
    "# Getting randomly another integer between 0 and the number of models  for the n + 1 model from theory\n",
    "n = random.randint(0,n_modelos - 1)"
   ]
  },
  {
   "cell_type": "code",
   "execution_count": 13,
   "metadata": {},
   "outputs": [],
   "source": [
    "# Doing another mean, this time between the P model and n + 1 model from our set of models\n",
    "finalmod = np.zeros(3)\n",
    "\n",
    "for i in range(3):\n",
    "    finalmod[i] = 2 * P[i] - conj_sol[i][n]"
   ]
  },
  {
   "cell_type": "code",
   "execution_count": 14,
   "metadata": {},
   "outputs": [],
   "source": [
    "# Characteristcs from the geomagnetic field\n",
    "\n",
    "mi=-34\n",
    "md=0\n",
    "F=23500\n",
    "\n",
    "xq=finalmod[0]\n",
    "zq=finalmod[1]\n",
    "mom=finalmod[2]"
   ]
  },
  {
   "cell_type": "code",
   "execution_count": 15,
   "metadata": {},
   "outputs": [],
   "source": [
    "# Evaluating the geomagnetic field components\n",
    "\n",
    "amx, amy, amz = dircos(mi,md)\n",
    "\n",
    "fx=F*amx\n",
    "fy=F*amy\n",
    "fz=F*amz"
   ]
  },
  {
   "cell_type": "code",
   "execution_count": 16,
   "metadata": {},
   "outputs": [],
   "source": [
    "# Total field anomaly evaluation from dipole and dircos functions\n",
    "\n",
    "dataset_len = obs_data.shape[0]\n",
    "anomc = np.zeros(dataset_len)\n",
    "\n",
    "for i in range(dataset_len):\n",
    "    \n",
    "    bx, by, bz = dipole(xq,yq,zq,mi,md,mom,obs_data[i][0],yp,zp)\n",
    "    \n",
    "    bxx = bx + fx\n",
    "    byy = by + fy\n",
    "    bzz = bz + fz\n",
    "    bt = np.sqrt(bxx**2 + byy**2 + bzz**2)\n",
    "    \n",
    "    anomc[i] = bt - F"
   ]
  },
  {
   "cell_type": "code",
   "execution_count": 17,
   "metadata": {},
   "outputs": [
    {
     "data": {
      "text/plain": [
       "[<matplotlib.lines.Line2D at 0x172bb9bbe80>]"
      ]
     },
     "execution_count": 17,
     "metadata": {},
     "output_type": "execute_result"
    },
    {
     "data": {
      "image/png": "[encoded data removed]",
      "text/plain": [
       "<Figure size 720x432 with 1 Axes>"
      ]
     },
     "metadata": {
      "needs_background": "light"
     },
     "output_type": "display_data"
    }
   ],
   "source": [
    "# Let's see the profile from this first candidate to our solution and compare with the observations\n",
    "\n",
    "import matplotlib.pyplot as plt\n",
    "\n",
    "plt.figure(figsize = (10,6))\n",
    "plt.xlabel('Horizontal coordinate')\n",
    "plt.ylabel('Magnetometric anomaly')\n",
    "plt.title('Magnetometric Profile', fontsize = 15)\n",
    "plt.plot(anomaly.iloc[:,0], anomc)\n",
    "plt.plot(anomaly.iloc[:,0], anomaly.iloc[:,1])"
   ]
  },
  {
   "cell_type": "code",
   "execution_count": 18,
   "metadata": {},
   "outputs": [],
   "source": [
    "# It doesn't seem to fit very well, let's continue our work"
   ]
  },
  {
   "cell_type": "code",
   "execution_count": 19,
   "metadata": {},
   "outputs": [],
   "source": [
    "# Evaluating the model with Rrms norm\n",
    "# for the T model will be rms, but the others will be norm vector\n",
    "\n",
    "Rrms = np.sqrt(np.sum((obs_data[:, 1] - anomc) ** 2) / dataset_len)"
   ]
  },
  {
   "cell_type": "code",
   "execution_count": 20,
   "metadata": {},
   "outputs": [],
   "source": [
    "norma = np.zeros(dataset_len)\n",
    "\n",
    "for j in range(n_modelos):\n",
    "    xq = conj_sol[0][j]\n",
    "    zq = conj_sol[1][j]\n",
    "    mom = conj_sol[2][j]\n",
    "\n",
    "    for i in range(dataset_len):\n",
    "        \n",
    "        xp = obs_data[i][0]\n",
    "\n",
    "        dipole(xq,yq,zq,mi,md,mom,xp,yp,zp)\n",
    "        bxx = bx + fx\n",
    "        byy = by + fy\n",
    "        bzz = bz + fz\n",
    "        bt = np.sqrt(bxx**2 + byy**2 + bzz**2)\n",
    "\n",
    "        anomc[i] = bt - F\n",
    "        \n",
    "    norma[j] = np.sqrt(np.sum((obs_data[:, 1] - anomc) ** 2) / dataset_len)"
   ]
  },
  {
   "cell_type": "code",
   "execution_count": 21,
   "metadata": {},
   "outputs": [],
   "source": [
    "# Here we will chose the number of iterations to repeat the process until we reach this number of iterations\n",
    "iteracoes = 5000"
   ]
  },
  {
   "cell_type": "code",
   "execution_count": 56,
   "metadata": {},
   "outputs": [],
   "source": [
    "convergence = np.zeros((iteracoes, 2))"
   ]
  },
  {
   "cell_type": "code",
   "execution_count": 57,
   "metadata": {},
   "outputs": [],
   "source": [
    "cont = 0\n",
    "while cont != iteracoes:\n",
    "    \n",
    "    vmax = np.max(norma)\n",
    "    imax = np.where(norma == vmax)[0][0]\n",
    "\n",
    "    if vmax < Rrms:\n",
    "        k = random.randint(0,n_modelos - 1)\n",
    "        l = random.randint(0,n_modelos - 1)\n",
    "        m = random.randint(0,n_modelos - 1)\n",
    "\n",
    "        # building the mean from n models chosen randomly\n",
    "        for i in range(3):\n",
    "            P[i] = (conj_sol[i][k] + conj_sol[i][l] + conj_sol[i][m]) / 3\n",
    "\n",
    "        # Getting randomly another integer between 0 and the number of models  for the n + 1 model from theory\n",
    "        n = random.randint(0,n_modelos - 1)\n",
    "        \n",
    "        # The mean between the P model and n + 1 model from our set of models\n",
    "        for i in range(3):\n",
    "            finalmod[i] = 2 * P[i] - conj_sol[i][n]\n",
    "\n",
    "        xq=finalmod[0]\n",
    "        zq=finalmod[1]\n",
    "        mom=finalmod[2]\n",
    "        \n",
    "        for i in range(dataset_len):\n",
    "    \n",
    "            bx, by, bz = dipole(xq,yq,zq,mi,md,mom,obs_data[i][0],yp,zp)\n",
    "\n",
    "            bxx = bx + fx\n",
    "            byy = by + fy\n",
    "            bzz = bz + fz\n",
    "            bt = np.sqrt(bxx**2 + byy**2 + bzz**2)\n",
    "\n",
    "            anomc[i] = bt - F\n",
    "\n",
    "        # Evaluating the model with Rrms norm\n",
    "        # for the T model will be rms, but the others will be norm vector\n",
    "        Rrms = np.sqrt(np.sum((obs_data[:, 1] - anomc) ** 2) / dataset_len)\n",
    "            \n",
    "        for j in range(n_modelos):\n",
    "            xq = conj_sol[0][j]\n",
    "            zq = conj_sol[1][j]\n",
    "            mom = conj_sol[2][j]\n",
    "\n",
    "            for i in range(dataset_len):\n",
    "\n",
    "                xp = obs_data[i][0]\n",
    "\n",
    "                dipole(xq,yq,zq,mi,md,mom,xp,yp,zp)\n",
    "                bxx = bx + fx\n",
    "                byy = by + fy\n",
    "                bzz = bz + fz\n",
    "                bt = np.sqrt(bxx**2 + byy**2 + bzz**2)\n",
    "\n",
    "                anomc[i] = bt - F\n",
    "\n",
    "            norma[j] = np.sqrt(np.sum((obs_data[:, 1] - anomc) ** 2) / dataset_len)\n",
    "            \n",
    "    else:\n",
    "        conj_sol[0][imax] = finalmod[0]\n",
    "        conj_sol[1][imax] = finalmod[1]\n",
    "        conj_sol[2][imax] = finalmod[2]\n",
    "        \n",
    "        k = random.randint(0,n_modelos - 1)\n",
    "        l = random.randint(0,n_modelos - 1)\n",
    "        m = random.randint(0,n_modelos - 1)\n",
    "        \n",
    "         # building the mean from n models chosen randomly\n",
    "        for i in range(3):\n",
    "            P[i] = (conj_sol[i][k] + conj_sol[i][l] + conj_sol[i][m]) / 3\n",
    "            \n",
    "        # Getting randomly another integer between 0 and the number of models  for the n + 1 model from theory\n",
    "        n = random.randint(0,n_modelos - 1)\n",
    "        \n",
    "        # The mean between the P model and n + 1 model from our set of models\n",
    "        for i in range(3):\n",
    "            finalmod[i] = 2 * P[i] - conj_sol[i][n]\n",
    "            \n",
    "        xq=finalmod[0]\n",
    "        zq=finalmod[1]\n",
    "        mom=finalmod[2]\n",
    "        \n",
    "        for i in range(dataset_len):\n",
    "    \n",
    "            bx, by, bz = dipole(xq,yq,zq,mi,md,mom,obs_data[i][0],yp,zp)\n",
    "\n",
    "            bxx = bx + fx\n",
    "            byy = by + fy\n",
    "            bzz = bz + fz\n",
    "            bt = np.sqrt(bxx**2 + byy**2 + bzz**2)\n",
    "\n",
    "            anomc[i] = bt - F\n",
    "            \n",
    "        # Evaluating the model with Rrms norm\n",
    "        # for the T model will be rms, but the others will be norm vector\n",
    "        Rrms = np.sqrt(np.sum((obs_data[:, 1] - anomc) ** 2) / dataset_len)\n",
    "        \n",
    "        for j in range(n_modelos):\n",
    "            xq = conj_sol[0][j]\n",
    "            zq = conj_sol[1][j]\n",
    "            mom = conj_sol[2][j]\n",
    "\n",
    "            for i in range(dataset_len):\n",
    "\n",
    "                xp = obs_data[i][0]\n",
    "\n",
    "                dipole(xq,yq,zq,mi,md,mom,xp,yp,zp)\n",
    "                bxx = bx + fx\n",
    "                byy = by + fy\n",
    "                bzz = bz + fz\n",
    "                bt = np.sqrt(bxx**2 + byy**2 + bzz**2)\n",
    "\n",
    "                anomc[i] = bt - F\n",
    "\n",
    "            norma[j] = np.sqrt(np.sum((obs_data[:, 1] - anomc) ** 2) / dataset_len)\n",
    "\n",
    "\n",
    "\n",
    "    convergence[cont][0] = cont\n",
    "    convergence[cont][1] = np.min(norma)\n",
    "    \n",
    "    cont = cont + 1"
   ]
  },
  {
   "cell_type": "code",
   "execution_count": 62,
   "metadata": {},
   "outputs": [
    {
     "data": {
      "text/plain": [
       "[<matplotlib.lines.Line2D at 0x172bbbc4be0>]"
      ]
     },
     "execution_count": 62,
     "metadata": {},
     "output_type": "execute_result"
    },
    {
     "data": {
      "image/png": "[encoded data removed]",
      "text/plain": [
       "<Figure size 720x432 with 1 Axes>"
      ]
     },
     "metadata": {
      "needs_background": "light"
     },
     "output_type": "display_data"
    }
   ],
   "source": [
    "# Let's draw the convergence curve to see how our algoritm walked to his solution \n",
    "\n",
    "plt.figure(figsize = (10,6))\n",
    "plt.xlabel('Iterations')\n",
    "plt.ylabel('RMS')\n",
    "plt.title('Convergence Curve', fontsize = 15)\n",
    "plt.plot(convergence[:, 0], convergence[:, 1])"
   ]
  },
  {
   "cell_type": "code",
   "execution_count": 64,
   "metadata": {},
   "outputs": [
    {
     "ename": "IndexError",
     "evalue": "index 21 is out of bounds for axis 0 with size 21",
     "output_type": "error",
     "traceback": [
      "\u001b[1;31m---------------------------------------------------------------------------\u001b[0m",
      "\u001b[1;31mIndexError\u001b[0m                                Traceback (most recent call last)",
      "\u001b[1;32m<ipython-input-64-235971e07cad>\u001b[0m in \u001b[0;36m<module>\u001b[1;34m\u001b[0m\n\u001b[0;32m      4\u001b[0m \u001b[0mimin\u001b[0m \u001b[1;33m=\u001b[0m \u001b[0mnp\u001b[0m\u001b[1;33m.\u001b[0m\u001b[0mwhere\u001b[0m\u001b[1;33m(\u001b[0m\u001b[0mnorma\u001b[0m \u001b[1;33m==\u001b[0m \u001b[0mvmin\u001b[0m\u001b[1;33m)\u001b[0m\u001b[1;33m[\u001b[0m\u001b[1;36m0\u001b[0m\u001b[1;33m]\u001b[0m\u001b[1;33m[\u001b[0m\u001b[1;36m0\u001b[0m\u001b[1;33m]\u001b[0m\u001b[1;33m\u001b[0m\u001b[1;33m\u001b[0m\u001b[0m\n\u001b[0;32m      5\u001b[0m \u001b[1;33m\u001b[0m\u001b[0m\n\u001b[1;32m----> 6\u001b[1;33m \u001b[0mxq\u001b[0m\u001b[1;33m=\u001b[0m\u001b[0mconj_sol\u001b[0m\u001b[1;33m[\u001b[0m\u001b[1;36m0\u001b[0m\u001b[1;33m]\u001b[0m\u001b[1;33m[\u001b[0m\u001b[0mimin\u001b[0m\u001b[1;33m]\u001b[0m\u001b[1;33m\u001b[0m\u001b[1;33m\u001b[0m\u001b[0m\n\u001b[0m\u001b[0;32m      7\u001b[0m \u001b[0mzq\u001b[0m\u001b[1;33m=\u001b[0m\u001b[0mconj_sol\u001b[0m\u001b[1;33m[\u001b[0m\u001b[1;36m1\u001b[0m\u001b[1;33m]\u001b[0m\u001b[1;33m[\u001b[0m\u001b[0mimin\u001b[0m\u001b[1;33m]\u001b[0m\u001b[1;33m\u001b[0m\u001b[1;33m\u001b[0m\u001b[0m\n\u001b[0;32m      8\u001b[0m \u001b[0mmom\u001b[0m\u001b[1;33m=\u001b[0m\u001b[0mconj_sol\u001b[0m\u001b[1;33m[\u001b[0m\u001b[1;36m2\u001b[0m\u001b[1;33m]\u001b[0m\u001b[1;33m[\u001b[0m\u001b[0mimin\u001b[0m\u001b[1;33m]\u001b[0m\u001b[1;33m\u001b[0m\u001b[1;33m\u001b[0m\u001b[0m\n",
      "\u001b[1;31mIndexError\u001b[0m: index 21 is out of bounds for axis 0 with size 21"
     ]
    }
   ],
   "source": [
    "# Catching the lowest solution delivered by our evaluation of rms\n",
    "\n",
    "vmin = np.min(norma)\n",
    "imin = np.where(norma == vmin)[0][0]\n",
    "\n",
    "xq=conj_sol[0][imin]\n",
    "zq=conj_sol[1][imin]\n",
    "mom=conj_sol[2][imin]"
   ]
  },
  {
   "cell_type": "code",
   "execution_count": null,
   "metadata": {},
   "outputs": [],
   "source": []
  }
 ],
 "metadata": {
  "kernelspec": {
   "display_name": "Python 3",
   "language": "python",
   "name": "python3"
  },
  "language_info": {
   "codemirror_mode": {
    "name": "ipython",
    "version": 3
   },
   "file_extension": ".py",
   "mimetype": "text/x-python",
   "name": "python",
   "nbconvert_exporter": "python",
   "pygments_lexer": "ipython3",
   "version": "3.8.5"
  }
 },
 "nbformat": 4,
 "nbformat_minor": 4
}
